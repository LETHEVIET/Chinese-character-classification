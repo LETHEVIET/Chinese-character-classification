{
 "cells": [
  {
   "cell_type": "code",
   "execution_count": 1,
   "metadata": {},
   "outputs": [],
   "source": [
    "from typing import Tuple\n",
    "from torch.utils.data import Dataset\n",
    "import pathlib\n",
    "from PIL import Image\n",
    "import torch\n",
    "from torch.utils.data import DataLoader\n",
    "from torchvision import datasets, transforms\n",
    "import pandas as pd \n",
    "import numpy\n",
    "import string\n",
    "\n",
    "class Cangjie_Class():\n",
    "    CHARS = 'abcdefghijklmnopqrstuvwxyz'\n",
    "    CHAR2LABEL = {char: i + 1 for i, char in enumerate(CHARS)}\n",
    "    LABEL2CHAR = {label: char for char, label in CHAR2LABEL.items()}\n",
    "\n",
    "    def __init__(self, file_path):\n",
    "\n",
    "        self.class_df = []\n",
    "\n",
    "        self.char_list = string.ascii_letters[:26]\n",
    "        class_dict = {\n",
    "            \"id\": [],\n",
    "            \"char\": [],\n",
    "            \"hex\": [],\n",
    "            \"uni\": [],\n",
    "            \"label\": [],\n",
    "        }\n",
    "        with open(file_path, \"r\") as f:\n",
    "            f.readline()\n",
    "            for line in f:\n",
    "                id, char, hex, uni, label = line.split()\n",
    "                class_dict[\"id\"].append(int(id))\n",
    "                class_dict[\"char\"].append(char)\n",
    "                class_dict[\"hex\"].append(hex)\n",
    "                class_dict[\"uni\"].append(uni)\n",
    "                class_dict[\"label\"].append(label)\n",
    "\n",
    "        self.class_df = pd.DataFrame(class_dict)\n",
    "\n",
    "        self.class_df[\"cls\"] = self.class_df.apply(lambda row: 0 if row[\"label\"] == \"zc\" else 1, axis=1)\n",
    "\n",
    "    def get_class_name_from_path(self, image_path):\n",
    "        return self.class_df.iloc[int(image_path.parent.stem)][\"label\"]\n",
    "    \n",
    "    def encode_to_labels(self, txt):\n",
    "        dig_lst = []\n",
    "        for index, char in enumerate(txt):\n",
    "            try:\n",
    "                dig_lst.append(self.char_list.index(char))\n",
    "            except:\n",
    "                print(char)\n",
    "\n",
    "        while len(dig_lst) < 7:\n",
    "            dig_lst.append(len(self.char_list))\n",
    "            \n",
    "        return dig_lst\n",
    "    \n",
    "    def decode_to_classname(self, dig_lst):\n",
    "        class_name = ''\n",
    "\n",
    "        for dig in dig_lst[:5]:\n",
    "            try:\n",
    "                class_name += self.char_list[int(dig)]\n",
    "            except:\n",
    "                class_name += '_'\n",
    "\n",
    "        return class_name\n",
    "    \n",
    "    def get_classes(self):\n",
    "        classes = list(self.class_df[\"label\"])\n",
    "        class_to_idx = {cls_name: i for i, cls_name in enumerate(classes)}\n",
    "        idx_to_class = {i:cls_name for i, cls_name in enumerate(classes)}\n",
    "        return classes, class_to_idx, idx_to_class\n",
    "    \n",
    "class Cangjie_Dataset(Dataset):\n",
    "    \n",
    "    def __init__(self, targ_dir: str, set:str, transform=None) -> None:\n",
    "        self.cangjie = Cangjie_Class(pathlib.Path(targ_dir) / \"952_labels.txt\")\n",
    "        self.paths = list((pathlib.Path(targ_dir)/ f\"952_{set}\").glob(\"*/*.png\"))\n",
    "        self.transform = transform\n",
    "        self.classes, self.class_to_idx, self.idx_to_class = self.cangjie.get_classes()\n",
    "\n",
    "    def load_image(self, index: int) -> Image.Image:\n",
    "        \"Opens an image via a path and returns it.\"\n",
    "        image_path = self.paths[index]\n",
    "        return Image.open(image_path)\n",
    "    \n",
    "    def __len__(self) -> int:\n",
    "        \"Returns the total number of samples.\"\n",
    "        return len(self.paths)\n",
    "    \n",
    "    def __getitem__(self, index: int) -> Tuple[torch.Tensor, int]:\n",
    "        \"Returns one sample of data, data and label (X, y).\"\n",
    "        image = self.load_image(index)\n",
    "\n",
    "        text = self.cangjie.get_class_name_from_path(self.paths[index])\n",
    "        target = [self.cangjie.CHAR2LABEL[c] for c in text]\n",
    "        target_length = [len(target)]\n",
    "\n",
    "        target = torch.LongTensor(target)\n",
    "        target_length = torch.LongTensor(target_length)\n",
    "        return image, target, target_length"
   ]
  },
  {
   "cell_type": "code",
   "execution_count": 3,
   "metadata": {},
   "outputs": [],
   "source": [
    "test_set = Cangjie_Dataset(\"etl_952_singlechar_size_64\", \"test\")"
   ]
  },
  {
   "cell_type": "code",
   "execution_count": 1,
   "metadata": {},
   "outputs": [],
   "source": [
    "from cangjie_dataset import Cangjie_Dataset\n",
    "\n",
    "val_dataset = Cangjie_Dataset(\"etl_952_singlechar_size_64\", \"val\")"
   ]
  },
  {
   "cell_type": "code",
   "execution_count": 3,
   "metadata": {},
   "outputs": [
    {
     "name": "stdout",
     "output_type": "stream",
     "text": [
      "torch.Size([5]) tensor([0.]) zc___\n"
     ]
    }
   ],
   "source": [
    "image, cls, labels = val_dataset[0]"
   ]
  },
  {
   "cell_type": "code",
   "execution_count": 8,
   "metadata": {},
   "outputs": [
    {
     "name": "stdout",
     "output_type": "stream",
     "text": [
      "tensor([ 0.,  1.,  2.,  3.,  4.,  5.,  6.,  7.,  8.,  9., 10., 11., 12., 13.,\n",
      "        14., 15., 16., 17., 18., 19., 20., 21., 22., 23., 24., 25., 26.])\n"
     ]
    }
   ],
   "source": [
    "import torch\n",
    "output = torch.Tensor([i for i in range(27)])\n",
    "\n",
    "print(output)"
   ]
  },
  {
   "cell_type": "code",
   "execution_count": null,
   "metadata": {},
   "outputs": [],
   "source": [
    "from torch import nn"
   ]
  },
  {
   "cell_type": "code",
   "execution_count": 6,
   "metadata": {},
   "outputs": [
    {
     "name": "stdout",
     "output_type": "stream",
     "text": [
      "tensor(29)\n"
     ]
    }
   ],
   "source": [
    "print(labels[0] + labels[1])"
   ]
  },
  {
   "cell_type": "code",
   "execution_count": 5,
   "metadata": {},
   "outputs": [
    {
     "name": "stdout",
     "output_type": "stream",
     "text": [
      "1____\n"
     ]
    }
   ],
   "source": [
    "label = '1'\n",
    "label += '_' * (5 - len(label))\n",
    "print(label)"
   ]
  }
 ],
 "metadata": {
  "kernelspec": {
   "display_name": "cifar100",
   "language": "python",
   "name": "python3"
  },
  "language_info": {
   "codemirror_mode": {
    "name": "ipython",
    "version": 3
   },
   "file_extension": ".py",
   "mimetype": "text/x-python",
   "name": "python",
   "nbconvert_exporter": "python",
   "pygments_lexer": "ipython3",
   "version": "3.6.13"
  }
 },
 "nbformat": 4,
 "nbformat_minor": 2
}
